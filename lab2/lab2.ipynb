{
  "nbformat": 4,
  "nbformat_minor": 0,
  "metadata": {
    "colab": {
      "name": "lab2-0853426.ipynb",
      "provenance": [],
      "collapsed_sections": []
    },
    "kernelspec": {
      "name": "python3",
      "display_name": "Python 3"
    },
    "widgets": {
      "application/vnd.jupyter.widget-state+json": {
        "bcfae4bf49a94008aef972caaa135f09": {
          "model_module": "@jupyter-widgets/controls",
          "model_name": "HBoxModel",
          "state": {
            "_view_name": "HBoxView",
            "_dom_classes": [],
            "_model_name": "HBoxModel",
            "_view_module": "@jupyter-widgets/controls",
            "_model_module_version": "1.5.0",
            "_view_count": null,
            "_view_module_version": "1.5.0",
            "box_style": "",
            "layout": "IPY_MODEL_549615d0e320479c847542c37e193f3e",
            "_model_module": "@jupyter-widgets/controls",
            "children": [
              "IPY_MODEL_d04ae11704844c7bbf5ecd4369e7c60d",
              "IPY_MODEL_a5f663a1c5814946926440fdacf406f9"
            ]
          }
        },
        "549615d0e320479c847542c37e193f3e": {
          "model_module": "@jupyter-widgets/base",
          "model_name": "LayoutModel",
          "state": {
            "_view_name": "LayoutView",
            "grid_template_rows": null,
            "right": null,
            "justify_content": null,
            "_view_module": "@jupyter-widgets/base",
            "overflow": null,
            "_model_module_version": "1.2.0",
            "_view_count": null,
            "flex_flow": null,
            "width": null,
            "min_width": null,
            "border": null,
            "align_items": null,
            "bottom": null,
            "_model_module": "@jupyter-widgets/base",
            "top": null,
            "grid_column": null,
            "overflow_y": null,
            "overflow_x": null,
            "grid_auto_flow": null,
            "grid_area": null,
            "grid_template_columns": null,
            "flex": null,
            "_model_name": "LayoutModel",
            "justify_items": null,
            "grid_row": null,
            "max_height": null,
            "align_content": null,
            "visibility": null,
            "align_self": null,
            "height": null,
            "min_height": null,
            "padding": null,
            "grid_auto_rows": null,
            "grid_gap": null,
            "max_width": null,
            "order": null,
            "_view_module_version": "1.2.0",
            "grid_template_areas": null,
            "object_position": null,
            "object_fit": null,
            "grid_auto_columns": null,
            "margin": null,
            "display": null,
            "left": null
          }
        },
        "d04ae11704844c7bbf5ecd4369e7c60d": {
          "model_module": "@jupyter-widgets/controls",
          "model_name": "IntProgressModel",
          "state": {
            "_view_name": "ProgressView",
            "style": "IPY_MODEL_46dc30e2fd1c452e852228bf66b80ad7",
            "_dom_classes": [],
            "description": "100%",
            "_model_name": "IntProgressModel",
            "bar_style": "success",
            "max": 1000,
            "_view_module": "@jupyter-widgets/controls",
            "_model_module_version": "1.5.0",
            "value": 1000,
            "_view_count": null,
            "_view_module_version": "1.5.0",
            "orientation": "horizontal",
            "min": 0,
            "description_tooltip": null,
            "_model_module": "@jupyter-widgets/controls",
            "layout": "IPY_MODEL_c95caaba50a64ebaa4d6f1fd3352a244"
          }
        },
        "a5f663a1c5814946926440fdacf406f9": {
          "model_module": "@jupyter-widgets/controls",
          "model_name": "HTMLModel",
          "state": {
            "_view_name": "HTMLView",
            "style": "IPY_MODEL_dc597d87df4c4d93be4d4c89fbb80d38",
            "_dom_classes": [],
            "description": "",
            "_model_name": "HTMLModel",
            "placeholder": "​",
            "_view_module": "@jupyter-widgets/controls",
            "_model_module_version": "1.5.0",
            "value": " 1000/1000 [02:35&lt;00:00,  6.45it/s]",
            "_view_count": null,
            "_view_module_version": "1.5.0",
            "description_tooltip": null,
            "_model_module": "@jupyter-widgets/controls",
            "layout": "IPY_MODEL_75093e01f61448a2939d2863543bf401"
          }
        },
        "46dc30e2fd1c452e852228bf66b80ad7": {
          "model_module": "@jupyter-widgets/controls",
          "model_name": "ProgressStyleModel",
          "state": {
            "_view_name": "StyleView",
            "_model_name": "ProgressStyleModel",
            "description_width": "initial",
            "_view_module": "@jupyter-widgets/base",
            "_model_module_version": "1.5.0",
            "_view_count": null,
            "_view_module_version": "1.2.0",
            "bar_color": null,
            "_model_module": "@jupyter-widgets/controls"
          }
        },
        "c95caaba50a64ebaa4d6f1fd3352a244": {
          "model_module": "@jupyter-widgets/base",
          "model_name": "LayoutModel",
          "state": {
            "_view_name": "LayoutView",
            "grid_template_rows": null,
            "right": null,
            "justify_content": null,
            "_view_module": "@jupyter-widgets/base",
            "overflow": null,
            "_model_module_version": "1.2.0",
            "_view_count": null,
            "flex_flow": null,
            "width": null,
            "min_width": null,
            "border": null,
            "align_items": null,
            "bottom": null,
            "_model_module": "@jupyter-widgets/base",
            "top": null,
            "grid_column": null,
            "overflow_y": null,
            "overflow_x": null,
            "grid_auto_flow": null,
            "grid_area": null,
            "grid_template_columns": null,
            "flex": null,
            "_model_name": "LayoutModel",
            "justify_items": null,
            "grid_row": null,
            "max_height": null,
            "align_content": null,
            "visibility": null,
            "align_self": null,
            "height": null,
            "min_height": null,
            "padding": null,
            "grid_auto_rows": null,
            "grid_gap": null,
            "max_width": null,
            "order": null,
            "_view_module_version": "1.2.0",
            "grid_template_areas": null,
            "object_position": null,
            "object_fit": null,
            "grid_auto_columns": null,
            "margin": null,
            "display": null,
            "left": null
          }
        },
        "dc597d87df4c4d93be4d4c89fbb80d38": {
          "model_module": "@jupyter-widgets/controls",
          "model_name": "DescriptionStyleModel",
          "state": {
            "_view_name": "StyleView",
            "_model_name": "DescriptionStyleModel",
            "description_width": "",
            "_view_module": "@jupyter-widgets/base",
            "_model_module_version": "1.5.0",
            "_view_count": null,
            "_view_module_version": "1.2.0",
            "_model_module": "@jupyter-widgets/controls"
          }
        },
        "75093e01f61448a2939d2863543bf401": {
          "model_module": "@jupyter-widgets/base",
          "model_name": "LayoutModel",
          "state": {
            "_view_name": "LayoutView",
            "grid_template_rows": null,
            "right": null,
            "justify_content": null,
            "_view_module": "@jupyter-widgets/base",
            "overflow": null,
            "_model_module_version": "1.2.0",
            "_view_count": null,
            "flex_flow": null,
            "width": null,
            "min_width": null,
            "border": null,
            "align_items": null,
            "bottom": null,
            "_model_module": "@jupyter-widgets/base",
            "top": null,
            "grid_column": null,
            "overflow_y": null,
            "overflow_x": null,
            "grid_auto_flow": null,
            "grid_area": null,
            "grid_template_columns": null,
            "flex": null,
            "_model_name": "LayoutModel",
            "justify_items": null,
            "grid_row": null,
            "max_height": null,
            "align_content": null,
            "visibility": null,
            "align_self": null,
            "height": null,
            "min_height": null,
            "padding": null,
            "grid_auto_rows": null,
            "grid_gap": null,
            "max_width": null,
            "order": null,
            "_view_module_version": "1.2.0",
            "grid_template_areas": null,
            "object_position": null,
            "object_fit": null,
            "grid_auto_columns": null,
            "margin": null,
            "display": null,
            "left": null
          }
        },
        "2a68fbdf9360439593531c00ef045c18": {
          "model_module": "@jupyter-widgets/controls",
          "model_name": "HBoxModel",
          "state": {
            "_view_name": "HBoxView",
            "_dom_classes": [],
            "_model_name": "HBoxModel",
            "_view_module": "@jupyter-widgets/controls",
            "_model_module_version": "1.5.0",
            "_view_count": null,
            "_view_module_version": "1.5.0",
            "box_style": "",
            "layout": "IPY_MODEL_dd6d5171b73643f3bc8fcff77f114b64",
            "_model_module": "@jupyter-widgets/controls",
            "children": [
              "IPY_MODEL_b3e348db15304568adc3396594093b5d",
              "IPY_MODEL_91af82926d474a9bbee70d95f0507067"
            ]
          }
        },
        "dd6d5171b73643f3bc8fcff77f114b64": {
          "model_module": "@jupyter-widgets/base",
          "model_name": "LayoutModel",
          "state": {
            "_view_name": "LayoutView",
            "grid_template_rows": null,
            "right": null,
            "justify_content": null,
            "_view_module": "@jupyter-widgets/base",
            "overflow": null,
            "_model_module_version": "1.2.0",
            "_view_count": null,
            "flex_flow": null,
            "width": null,
            "min_width": null,
            "border": null,
            "align_items": null,
            "bottom": null,
            "_model_module": "@jupyter-widgets/base",
            "top": null,
            "grid_column": null,
            "overflow_y": null,
            "overflow_x": null,
            "grid_auto_flow": null,
            "grid_area": null,
            "grid_template_columns": null,
            "flex": null,
            "_model_name": "LayoutModel",
            "justify_items": null,
            "grid_row": null,
            "max_height": null,
            "align_content": null,
            "visibility": null,
            "align_self": null,
            "height": null,
            "min_height": null,
            "padding": null,
            "grid_auto_rows": null,
            "grid_gap": null,
            "max_width": null,
            "order": null,
            "_view_module_version": "1.2.0",
            "grid_template_areas": null,
            "object_position": null,
            "object_fit": null,
            "grid_auto_columns": null,
            "margin": null,
            "display": null,
            "left": null
          }
        },
        "b3e348db15304568adc3396594093b5d": {
          "model_module": "@jupyter-widgets/controls",
          "model_name": "IntProgressModel",
          "state": {
            "_view_name": "ProgressView",
            "style": "IPY_MODEL_4aac78976cb84d32852e3c16ee25b307",
            "_dom_classes": [],
            "description": "100%",
            "_model_name": "IntProgressModel",
            "bar_style": "success",
            "max": 1000,
            "_view_module": "@jupyter-widgets/controls",
            "_model_module_version": "1.5.0",
            "value": 1000,
            "_view_count": null,
            "_view_module_version": "1.5.0",
            "orientation": "horizontal",
            "min": 0,
            "description_tooltip": null,
            "_model_module": "@jupyter-widgets/controls",
            "layout": "IPY_MODEL_c9cd07ce79e8487a84cd787c187ac8f7"
          }
        },
        "91af82926d474a9bbee70d95f0507067": {
          "model_module": "@jupyter-widgets/controls",
          "model_name": "HTMLModel",
          "state": {
            "_view_name": "HTMLView",
            "style": "IPY_MODEL_243ac3e542fd490da3a46483ed69c85c",
            "_dom_classes": [],
            "description": "",
            "_model_name": "HTMLModel",
            "placeholder": "​",
            "_view_module": "@jupyter-widgets/controls",
            "_model_module_version": "1.5.0",
            "value": " 1000/1000 [00:01&lt;00:00, 934.83it/s]",
            "_view_count": null,
            "_view_module_version": "1.5.0",
            "description_tooltip": null,
            "_model_module": "@jupyter-widgets/controls",
            "layout": "IPY_MODEL_d98bb200b5b5457db2f03fa0d1c6da00"
          }
        },
        "4aac78976cb84d32852e3c16ee25b307": {
          "model_module": "@jupyter-widgets/controls",
          "model_name": "ProgressStyleModel",
          "state": {
            "_view_name": "StyleView",
            "_model_name": "ProgressStyleModel",
            "description_width": "initial",
            "_view_module": "@jupyter-widgets/base",
            "_model_module_version": "1.5.0",
            "_view_count": null,
            "_view_module_version": "1.2.0",
            "bar_color": null,
            "_model_module": "@jupyter-widgets/controls"
          }
        },
        "c9cd07ce79e8487a84cd787c187ac8f7": {
          "model_module": "@jupyter-widgets/base",
          "model_name": "LayoutModel",
          "state": {
            "_view_name": "LayoutView",
            "grid_template_rows": null,
            "right": null,
            "justify_content": null,
            "_view_module": "@jupyter-widgets/base",
            "overflow": null,
            "_model_module_version": "1.2.0",
            "_view_count": null,
            "flex_flow": null,
            "width": null,
            "min_width": null,
            "border": null,
            "align_items": null,
            "bottom": null,
            "_model_module": "@jupyter-widgets/base",
            "top": null,
            "grid_column": null,
            "overflow_y": null,
            "overflow_x": null,
            "grid_auto_flow": null,
            "grid_area": null,
            "grid_template_columns": null,
            "flex": null,
            "_model_name": "LayoutModel",
            "justify_items": null,
            "grid_row": null,
            "max_height": null,
            "align_content": null,
            "visibility": null,
            "align_self": null,
            "height": null,
            "min_height": null,
            "padding": null,
            "grid_auto_rows": null,
            "grid_gap": null,
            "max_width": null,
            "order": null,
            "_view_module_version": "1.2.0",
            "grid_template_areas": null,
            "object_position": null,
            "object_fit": null,
            "grid_auto_columns": null,
            "margin": null,
            "display": null,
            "left": null
          }
        },
        "243ac3e542fd490da3a46483ed69c85c": {
          "model_module": "@jupyter-widgets/controls",
          "model_name": "DescriptionStyleModel",
          "state": {
            "_view_name": "StyleView",
            "_model_name": "DescriptionStyleModel",
            "description_width": "",
            "_view_module": "@jupyter-widgets/base",
            "_model_module_version": "1.5.0",
            "_view_count": null,
            "_view_module_version": "1.2.0",
            "_model_module": "@jupyter-widgets/controls"
          }
        },
        "d98bb200b5b5457db2f03fa0d1c6da00": {
          "model_module": "@jupyter-widgets/base",
          "model_name": "LayoutModel",
          "state": {
            "_view_name": "LayoutView",
            "grid_template_rows": null,
            "right": null,
            "justify_content": null,
            "_view_module": "@jupyter-widgets/base",
            "overflow": null,
            "_model_module_version": "1.2.0",
            "_view_count": null,
            "flex_flow": null,
            "width": null,
            "min_width": null,
            "border": null,
            "align_items": null,
            "bottom": null,
            "_model_module": "@jupyter-widgets/base",
            "top": null,
            "grid_column": null,
            "overflow_y": null,
            "overflow_x": null,
            "grid_auto_flow": null,
            "grid_area": null,
            "grid_template_columns": null,
            "flex": null,
            "_model_name": "LayoutModel",
            "justify_items": null,
            "grid_row": null,
            "max_height": null,
            "align_content": null,
            "visibility": null,
            "align_self": null,
            "height": null,
            "min_height": null,
            "padding": null,
            "grid_auto_rows": null,
            "grid_gap": null,
            "max_width": null,
            "order": null,
            "_view_module_version": "1.2.0",
            "grid_template_areas": null,
            "object_position": null,
            "object_fit": null,
            "grid_auto_columns": null,
            "margin": null,
            "display": null,
            "left": null
          }
        }
      }
    }
  },
  "cells": [
    {
      "cell_type": "markdown",
      "metadata": {
        "id": "nhQKNiYJlfFt",
        "colab_type": "text"
      },
      "source": [
        "# My Code Start From Here\n",
        "### First part\n",
        "\n",
        "\n"
      ]
    },
    {
      "cell_type": "code",
      "metadata": {
        "id": "6KkdMiDKNBKO",
        "colab_type": "code",
        "outputId": "23df8f68-9a2e-4e2a-bd92-b8054ddac93d",
        "colab": {
          "base_uri": "https://localhost:8080/",
          "height": 170
        }
      },
      "source": [
        "import pandas as pd\n",
        "import numpy as np\n",
        "import spacy\n",
        "from nltk import ngrams, pos_tag, word_tokenize\n",
        "from collections import Counter\n",
        "from nltk.corpus import stopwords\n",
        "import nltk\n",
        "nltk.download('stopwords')\n",
        "from nltk.tokenize import word_tokenize\n",
        "nltk.download('punkt')\n",
        "nltk.download('averaged_perceptron_tagger')"
      ],
      "execution_count": 0,
      "outputs": [
        {
          "output_type": "stream",
          "text": [
            "[nltk_data] Downloading package stopwords to /root/nltk_data...\n",
            "[nltk_data]   Package stopwords is already up-to-date!\n",
            "[nltk_data] Downloading package punkt to /root/nltk_data...\n",
            "[nltk_data]   Package punkt is already up-to-date!\n",
            "[nltk_data] Downloading package averaged_perceptron_tagger to\n",
            "[nltk_data]     /root/nltk_data...\n",
            "[nltk_data]   Package averaged_perceptron_tagger is already up-to-\n",
            "[nltk_data]       date!\n"
          ],
          "name": "stdout"
        },
        {
          "output_type": "execute_result",
          "data": {
            "text/plain": [
              "True"
            ]
          },
          "metadata": {
            "tags": []
          },
          "execution_count": 1
        }
      ]
    },
    {
      "cell_type": "code",
      "metadata": {
        "id": "ir612j2uNFU6",
        "colab_type": "code",
        "colab": {}
      },
      "source": [
        "def get_corpus_and_titles():\n",
        "  df = pd.read_csv('https://bit.ly/nlp-reuters')\n",
        "  print(\"Fetching corpus and titles\")\n",
        "  corpus = df.content.to_list()\n",
        "  titles = df.title.to_list()\n",
        "  return corpus, titles"
      ],
      "execution_count": 0,
      "outputs": []
    },
    {
      "cell_type": "code",
      "metadata": {
        "id": "Ot5pRIryNekK",
        "colab_type": "code",
        "outputId": "cfde1740-7f25-4781-d3f3-fa083b3e35aa",
        "colab": {
          "base_uri": "https://localhost:8080/",
          "height": 51
        }
      },
      "source": [
        "corpus = get_corpus_and_titles()[0]\n",
        "titles = get_corpus_and_titles()[1]"
      ],
      "execution_count": 0,
      "outputs": [
        {
          "output_type": "stream",
          "text": [
            "Fetching corpus and titles\n",
            "Fetching corpus and titles\n"
          ],
          "name": "stdout"
        }
      ]
    },
    {
      "cell_type": "code",
      "metadata": {
        "id": "xYVNFlGfKvNm",
        "colab_type": "code",
        "outputId": "4b26a049-d9d1-4c28-e6a2-819d36750cf3",
        "colab": {
          "base_uri": "https://localhost:8080/",
          "height": 54
        }
      },
      "source": [
        "corpus[0]"
      ],
      "execution_count": 0,
      "outputs": [
        {
          "output_type": "execute_result",
          "data": {
            "text/plain": [
              "'Hey Siri, where can I get my cracked iPhone screen fixed? Apple Inc customers will soon have more choices as the company looks to reduce long wait times for iPhone repairs at its retail stores. By the end of 2017, Apple will to put its proprietary machines for mending cracked iPhone glass in about 400 authorized   repair centers in 25 countries, company executives told Reuters.  Among the first recipients is   Best Buy, which has long sold and serviced Apple products. The electronics retailer already has one of the   machines at a   store and one coming soon to an outlet in Sunnyvale, California.  Fixing cracked screens may seem like small potatoes, but it’s a    global business. The move is also a major shift for Apple. The company had previously restricted use of its   Horizon Machine to its nearly 500 retail stores and   repair centers; and it has guarded its design closely.  The change also comes as eight U. S. states have launched ”right to repair” bills aimed at prying open the tightly controlled repair networks of Apple and other   manufacturers. Apple said legislative pressure was not a factor in its decision to share its technology. It allowed Reuters to view and photograph the machines in action at a lab near its Cupertino, California headquarters. Until now, Apple had never formally acknowledged the Horizon Machine’s existence. The initial rollout aims to put machines in 200, or about 4 percent, of Apple’s 4, 800 authorized service providers worldwide over the next few months. The company plans to double that figure by the end of the year. ”We’ve been on a quest to expand our reach,” said Brian Naumann, senior director of service operations at Apple. He said repair wait times have grown at some of the company’s busiest retail stores. Pilot testing started a year ago. In addition to Miami, a few machines already are operating at   repair centers in the Bay Area, London, Shanghai and Singapore. Shops in some countries where Apple has no retail presence will also be early recipients, including locations in Colombia, Norway and South Korea. Apple would not say how much its partners are paying for the equipment. To be sure, any mall repair kiosk can replace a cracked iPhone screen. Apple says its customers can get their devices fixed at   shops without voiding their warranties as long as the technician caused no damage. But the Horizon Machine is needed to remedy the trickiest mishaps, such as when the fingerprint sensor attached to the back of the glass gets damaged when a phone is dropped. For security, only Apple’s   machine can tell the iPhone’s processor, its silicon brain, to recognize a replacement sensor. Without it, the iPhone won’t unlock with the touch of a finger. Banking apps that require a fingerprint won’t work either, including the Apple Pay digital wallet. ”RIGHT TO REPAIR” GAINING STEAM Apple has sold more than 1 billion iPhones worldwide, many to customers who don’t live near an Apple Store or an authorized   repair center. For fixes, many have turned to    shops and independent technicians that now dominate the trade. Research firm IBISWorld estimates the global cell phone repair business generates about $4 billion in revenue per year. Many of these entrepreneurs do good work. Some don’t. All use copycat parts because Apple, like other major manufacturers, doesn’t supply original parts or repair manuals to anyone but authorized service partners. Big companies defend this arrangement as the only way they can guarantee   repair work and keep hackers away from the proprietary software that makes their products tick. Consumer advocates, however, say their aim is to wring outsized profits from repairs. Independent technicians often charge less than the cost of a factory fix.  Enter    bills. New York, Massachusetts, Tennessee, Illinois, Minnesota, Nebraska, Kansas and Wyoming have introduced legislation looking to aid small shops and    tinkerers. These proposed measures would require manufacturers to supply repair manuals, diagnostic tools and authentic replacement parts at fair prices to independent technicians and the general public.  Apple, heavy equipment manufacturer Caterpillar Inc and medical device maker Medtronic Plc have lobbied against New York’s bill. In Nebraska, Apple sent its state and local lobbying chief Steve Kester to visit the Republican lawmaker sponsoring that state’s measure. ”Apple is telling me this is a bad thing because you’re going to have a mecca for hackers in Nebraska,” State Sen. Lydia Brasch said of Kester’s February visit.  Apple hasn’t commented on the bills, but a trade group it belongs to contends the Nebraska measure would force the company to divulge how it secures sensitive data on the iPhone. ”Think about how much of our personal lives are in this device,” said Mike Lanigan, head engineer for Apple’s service efforts. INSIDE THE LAB Apple got into the   business just three years ago with the introduction of the iPhone 5. Up until then, customers whose phones were out of warranty paid a ”repair” fee, but Apple simply replaced the entire phone. Lanigan said customers have been requesting repair service since shortly after the introduction of the iPhone in 2007, but the company waited until it could perfect the process. ”We view the service aspect of this as all part of the overall Apple experience,” Lanigan said. Apple doesn’t break out repair revenue in its financial statements. Analysts estimate it at $1 billion to $2 billion annually for all products.  As Apple’s screen mending has matured, its prices have dropped to $129 to $149, depending on screen size, from $229. That’s competitive with many independent shops for newer iPhones. Still, some technicians charge as little as $60 to fix older models.  Apple says its process aims to make the display look like it just came out of the box. To demonstrate, the company allowed Reuters to observe the Horizon Machine at a repair lab in Sunnyvale, California.  In the cavernous, brightly lit lab painted in Apple’s signature sparkling white, two lab technicians clad in   shorts and tennis shoes scurried between rows of long white metal tables stuffed with test equipment. Dozens of Horizon Machines lined the tables. The contraptions, gray metal boxes the size of a microwave with a   windowed door, vary slightly in shape depending on the model of iPhone they repair. Apple would not say where the machines were made or by whom. In a smaller training room, a technician laid out the tools Apple uses to fix iPhone screens: special screwdrivers for the iPhone’s   and   screws, a custom   for loosening the screen without tearing the delicate ribbon cables behind it, and a press to squeeze iPhone 7s to ensure waterproofing. Once the new screen is mounted, the iPhone goes into the Horizon Machine, which allows Apple’s software to communicate with the fresh hardware. Over the course of 10 to 12 minutes, the machine talks to the phone’s operating system to pair the fingerprint sensor to the phone’s brain. While that unfolds, a mechanical finger jabs the screen in multiple places to test the   surface. The machine also fine tunes the display and software to match the precise colors and calibration of the original. ”We design for a customer experience that exceeds anything our competitors try to do,” said Naumann, Apple’s service chief. ”We endeavor to make it right at the same standard as when the customer bought the product.”  (Editing by Jonathan Weber and Marla Dickerson) HONG KONG Tencent Holdings Ltd has shrugged off concerns that a move to limit play time for some users of its   ”Honour of Kings” game could hurt its bottom line, saying those targeted make up only a small portion of its overall user base. AMSTERDAM TomTom NV, the Dutch maker of navigation software for cars, on Wednesday said it had struck a deal with Chinese internet company Baidu to collaborate on digital maps used for   driving.'"
            ]
          },
          "metadata": {
            "tags": []
          },
          "execution_count": 4
        }
      ]
    },
    {
      "cell_type": "code",
      "metadata": {
        "id": "VFktaFQvjGRR",
        "colab_type": "code",
        "colab": {}
      },
      "source": [
        "# No need to remove punctuation, no need to remove stop words\n",
        "def get_2grams(corpus):\n",
        "  vocabulary = Counter()\n",
        "  # using NLTK word_tokenize\n",
        "  for cont in corpus:\n",
        "    tokens = word_tokenize(cont)\n",
        "    for grams in ngrams(pos_tag(tokens), 2):\n",
        "      # where both tokens are PROPER NOUNS\n",
        "      if grams[0][1] == 'NNP' and grams[1][1] == 'NNP':\n",
        "        # needs a [tokens] to maintain tuple, or it'll be split\n",
        "        vocabulary.update([grams])\n",
        "  return vocabulary\n"
      ],
      "execution_count": 0,
      "outputs": []
    },
    {
      "cell_type": "markdown",
      "metadata": {
        "id": "oMAWRpMnmXZ8",
        "colab_type": "text"
      },
      "source": [
        "#### 5 most frequent 2-grams (where both tokens are PROPER NOUNS)"
      ]
    },
    {
      "cell_type": "code",
      "metadata": {
        "id": "xNauxqoIjvqI",
        "colab_type": "code",
        "outputId": "fc6bc444-09ca-42ad-911c-ae607bb9fccd",
        "colab": {
          "base_uri": "https://localhost:8080/",
          "height": 102
        }
      },
      "source": [
        "get_2grams(corpus).most_common(5)"
      ],
      "execution_count": 0,
      "outputs": [
        {
          "output_type": "execute_result",
          "data": {
            "text/plain": [
              "[((('U.', 'NNP'), ('S.', 'NNP')), 17600),\n",
              " ((('Donald', 'NNP'), ('Trump', 'NNP')), 3211),\n",
              " ((('Trump', 'NNP'), ('’', 'NNP')), 2789),\n",
              " ((('New', 'NNP'), ('York', 'NNP')), 2443),\n",
              " ((('Islamic', 'NNP'), ('State', 'NNP')), 1926)]"
            ]
          },
          "metadata": {
            "tags": []
          },
          "execution_count": 6
        }
      ]
    },
    {
      "cell_type": "markdown",
      "metadata": {
        "id": "8VJn1EfpUYqN",
        "colab_type": "text"
      },
      "source": [
        "# Second part"
      ]
    },
    {
      "cell_type": "code",
      "metadata": {
        "id": "UsJFkh5LUcqb",
        "colab_type": "code",
        "colab": {}
      },
      "source": [
        "# from the Buzzfeed News dataset (content), available at bit.ly/nlp-buzzfeed\n",
        "def get_buzzfeed():\n",
        "  df = pd.read_csv('https://bit.ly/nlp-buzzfeed')\n",
        "  print(\"Fetching corpus and titles\")\n",
        "  corpus = df.content.to_list()\n",
        "  titles = df.title.to_list()\n",
        "  return corpus, titles"
      ],
      "execution_count": 0,
      "outputs": []
    },
    {
      "cell_type": "code",
      "metadata": {
        "id": "NWNsc1P1Uki4",
        "colab_type": "code",
        "outputId": "640e5c76-f652-4374-e97e-0cab198a0ce9",
        "colab": {
          "base_uri": "https://localhost:8080/",
          "height": 34
        }
      },
      "source": [
        "buzzfeed_corpus = get_buzzfeed()[0]"
      ],
      "execution_count": 0,
      "outputs": [
        {
          "output_type": "stream",
          "text": [
            "Fetching corpus and titles\n"
          ],
          "name": "stdout"
        }
      ]
    },
    {
      "cell_type": "code",
      "metadata": {
        "id": "-jFOJ3RQXJwg",
        "colab_type": "code",
        "colab": {}
      },
      "source": [
        "def tfidf_vectors(corpus, vocab):\n",
        "\n",
        "  # return the TF-IDF vector for a single document\n",
        "  def tfidf_vec(doc):\n",
        "    doc_freqs = Counter(doc)\n",
        "    return [doc_freqs[token] * math.log(N / df[token]) for token, _ in vocab]\n",
        "\n",
        "  # first, compute the document frequency; df[token] is the number of documents containing token\n",
        "  df = Counter()\n",
        "  token_set = set([token for token, _ in vocab])\n",
        "  for document in corpus:\n",
        "    df.update(list(set(document) & token_set))\n",
        "\n",
        "  N = len(corpus)\n",
        "  # use df to compute the df-idf vector for each document\n",
        "\n",
        "  return [tfidf_vec(doc) for doc in corpus]"
      ],
      "execution_count": 0,
      "outputs": []
    },
    {
      "cell_type": "markdown",
      "metadata": {
        "id": "P5uGgxSxcE2c",
        "colab_type": "text"
      },
      "source": [
        "### buzzfeed_corpus has NaN (float type)!"
      ]
    },
    {
      "cell_type": "code",
      "metadata": {
        "id": "BhiOha-scnDs",
        "colab_type": "code",
        "outputId": "9f713962-9379-4de8-d031-c6147069a160",
        "colab": {
          "base_uri": "https://localhost:8080/",
          "height": 34
        }
      },
      "source": [
        "type(buzzfeed_corpus[60])"
      ],
      "execution_count": 0,
      "outputs": [
        {
          "output_type": "execute_result",
          "data": {
            "text/plain": [
              "float"
            ]
          },
          "metadata": {
            "tags": []
          },
          "execution_count": 10
        }
      ]
    },
    {
      "cell_type": "code",
      "metadata": {
        "id": "QBBnU-2HUqnh",
        "colab_type": "code",
        "cellView": "code",
        "outputId": "f958efed-cfb0-4105-f945-de18fdd9442a",
        "colab": {
          "base_uri": "https://localhost:8080/",
          "height": 66,
          "referenced_widgets": [
            "bcfae4bf49a94008aef972caaa135f09",
            "549615d0e320479c847542c37e193f3e",
            "d04ae11704844c7bbf5ecd4369e7c60d",
            "a5f663a1c5814946926440fdacf406f9",
            "46dc30e2fd1c452e852228bf66b80ad7",
            "c95caaba50a64ebaa4d6f1fd3352a244",
            "dc597d87df4c4d93be4d4c89fbb80d38",
            "75093e01f61448a2939d2863543bf401"
          ]
        }
      },
      "source": [
        "#@title Default title text\n",
        "from tqdm.notebook import tqdm \n",
        "\n",
        "import spacy\n",
        "# use the SpaCy POS tagger and tokenizer (en_core_web_sm model)\n",
        "nlp = spacy.load(\"en_core_web_sm\")\n",
        "# tokenizer?\n",
        "docs = []\n",
        "tokens = []\n",
        "count = 0\n",
        "for item in tqdm(buzzfeed_corpus):\n",
        "  if isinstance(item, float):\n",
        "    docs.append('nan')\n",
        "  else:\n",
        "    doc = nlp(item)\n",
        "    for token in doc:\n",
        "      # print(token.text, token.pos_, token.lemma_, token.is_alpha, token.is_stop) # stopwords or not,alphabet\n",
        "      \n",
        "      # remove stopwords (can use token.is_stop)\n",
        "      # remove punctuation (maybe should do this)\n",
        "      # remove space (maybe should do this)\n",
        "      if token.is_stop is False and token.is_punct is False and token.is_space is False:\n",
        "        # use each token’s combined lemma + POS (e.g., “give_VERB”) as the term for input to TF-IDF\n",
        "        tokens.append(token.lemma_ + \"_\" + token.pos_)\n",
        "    docs.append(tokens)\n",
        "    tokens = []"
      ],
      "execution_count": 0,
      "outputs": [
        {
          "output_type": "display_data",
          "data": {
            "application/vnd.jupyter.widget-view+json": {
              "model_id": "bcfae4bf49a94008aef972caaa135f09",
              "version_minor": 0,
              "version_major": 2
            },
            "text/plain": [
              "HBox(children=(IntProgress(value=0, max=1000), HTML(value='')))"
            ]
          },
          "metadata": {
            "tags": []
          }
        },
        {
          "output_type": "stream",
          "text": [
            "\n"
          ],
          "name": "stdout"
        }
      ]
    },
    {
      "cell_type": "code",
      "metadata": {
        "id": "XmkzoY82fY98",
        "colab_type": "code",
        "outputId": "496df207-fe12-447a-9b75-5b100533bcec",
        "colab": {
          "base_uri": "https://localhost:8080/",
          "height": 66,
          "referenced_widgets": [
            "2a68fbdf9360439593531c00ef045c18",
            "dd6d5171b73643f3bc8fcff77f114b64",
            "b3e348db15304568adc3396594093b5d",
            "91af82926d474a9bbee70d95f0507067",
            "4aac78976cb84d32852e3c16ee25b307",
            "c9cd07ce79e8487a84cd787c187ac8f7",
            "243ac3e542fd490da3a46483ed69c85c",
            "d98bb200b5b5457db2f03fa0d1c6da00"
          ]
        }
      },
      "source": [
        "# use the 512 most frequent terms as features \n",
        "freq = Counter()\n",
        "for doc in tqdm(docs):\n",
        "  for token in doc:\n",
        "    freq.update([token])"
      ],
      "execution_count": 0,
      "outputs": [
        {
          "output_type": "display_data",
          "data": {
            "application/vnd.jupyter.widget-view+json": {
              "model_id": "2a68fbdf9360439593531c00ef045c18",
              "version_minor": 0,
              "version_major": 2
            },
            "text/plain": [
              "HBox(children=(IntProgress(value=0, max=1000), HTML(value='')))"
            ]
          },
          "metadata": {
            "tags": []
          }
        },
        {
          "output_type": "stream",
          "text": [
            "\n"
          ],
          "name": "stdout"
        }
      ]
    },
    {
      "cell_type": "code",
      "metadata": {
        "id": "1MzZuNy_ifTH",
        "colab_type": "code",
        "colab": {}
      },
      "source": [
        "tf = freq.most_common(512)"
      ],
      "execution_count": 0,
      "outputs": []
    },
    {
      "cell_type": "code",
      "metadata": {
        "id": "HlBJT8l5l3Vb",
        "colab_type": "code",
        "colab": {}
      },
      "source": [
        "import math\n",
        "vectors = tfidf_vectors(docs, tf)"
      ],
      "execution_count": 0,
      "outputs": []
    },
    {
      "cell_type": "code",
      "metadata": {
        "id": "DDJcYjzNnsjK",
        "colab_type": "code",
        "colab": {}
      },
      "source": [
        "def cosine_similarity(vec_a, vec_b):\n",
        "  assert len(vec_a) == len(vec_b)\n",
        "  a_b = sum(i[0] * i[1] for i in zip(vec_a, vec_b))\n",
        "  a_2 = sum([i*i for i in vec_a])\n",
        "  b_2 = sum([i*i for i in vec_b])\n",
        "  if a_2 == 0 or b_2 == 0:\n",
        "    return float('nan')\n",
        "  return a_b/(math.sqrt(a_2) * math.sqrt(b_2))\n",
        "  \n",
        "def k_similar(seed_id, vectors, k=5):\n",
        "  similarities = [cosine_similarity(vectors[seed_id], vectors[id]) for id in range(len(vectors))]\n",
        "  top_indices = sorted(range(len(similarities)), key=lambda i: similarities[i])[-k:] # https://stackoverflow.com/questions/13070461/get-indices-of-the-top-n-values-of-a-list\n",
        "  return [(id, similarities[id]) for id in reversed(top_indices)]"
      ],
      "execution_count": 0,
      "outputs": []
    },
    {
      "cell_type": "code",
      "metadata": {
        "id": "MNVAv9fYm62L",
        "colab_type": "code",
        "outputId": "a20f28cc-bbd7-4bb5-d5b4-11934831237f",
        "colab": {
          "base_uri": "https://localhost:8080/",
          "height": 136
        }
      },
      "source": [
        "while True:\n",
        "  # 5 most similar articles to seed_id = <student_ID> % 1000\n",
        "  seed_id = 853426 % 1000\n",
        "  if seed_id >= len(corpus):\n",
        "    print(\"No such article.\")\n",
        "    break\n",
        "  print(\"* {}\".format(titles[seed_id]))\n",
        "  for id, similarity in k_similar(seed_id, vectors):\n",
        "    if seed_id == id: # no need to recommend the original article\n",
        "      continue\n",
        "    print(\" {:4} > {} ({:.4f})\".format(id, titles[id], similarity))\n",
        "  print()\n",
        "  break"
      ],
      "execution_count": 0,
      "outputs": [
        {
          "output_type": "stream",
          "text": [
            "* Verizon closing call centers in five U.S. states, 3,200 jobs affected\n",
            "  507 > Corporate Japan unimpressed with BOJ’s latest attempt to spur growth: Reuters poll (0.4976)\n",
            "  692 > Judge blocks Obama rule extending overtime pay to 4.2 million U.S. workers (0.3914)\n",
            "  682 > Second wind for stocks as earnings turn positive (0.3786)\n",
            "  727 > November U.S. auto sales up 3.7 percent on back of steep discounts (0.3736)\n",
            "  764 > Fed on course to raise interest rates at an upcoming meeting: Yellen (0.3708)\n",
            "\n"
          ],
          "name": "stdout"
        }
      ]
    }
  ]
}