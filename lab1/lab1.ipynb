{
  "nbformat": 4,
  "nbformat_minor": 0,
  "metadata": {
    "kernelspec": {
      "display_name": "Python 3",
      "language": "python",
      "name": "python3"
    },
    "language_info": {
      "codemirror_mode": {
        "name": "ipython",
        "version": 3
      },
      "file_extension": ".py",
      "mimetype": "text/x-python",
      "name": "python",
      "nbconvert_exporter": "python",
      "pygments_lexer": "ipython3",
      "version": "3.7.5"
    },
    "colab": {
      "name": "NLP_HW1_0853426.ipynb",
      "provenance": []
    }
  },
  "cells": [
    {
      "cell_type": "code",
      "metadata": {
        "id": "I0WVnACNamU_",
        "colab_type": "code",
        "colab": {}
      },
      "source": [
        "import re\n",
        "import math\n",
        "import pandas as pd\n",
        "import numpy as np\n",
        "from collections import Counter"
      ],
      "execution_count": 0,
      "outputs": []
    },
    {
      "cell_type": "code",
      "metadata": {
        "id": "eCRYnm7VamVF",
        "colab_type": "code",
        "colab": {}
      },
      "source": [
        "# punctuation list setup\n",
        "import string\n",
        "punct_list = []\n",
        "for punct in string.punctuation:\n",
        "    punct_list.append(punct)"
      ],
      "execution_count": 0,
      "outputs": []
    },
    {
      "cell_type": "markdown",
      "metadata": {
        "id": "IisZSb8YamVJ",
        "colab_type": "text"
      },
      "source": [
        "### Corpus download"
      ]
    },
    {
      "cell_type": "code",
      "metadata": {
        "id": "9wrYHML-amVK",
        "colab_type": "code",
        "colab": {}
      },
      "source": [
        "df = pd.read_csv(\"https://raw.githubusercontent.com/bshmueli/108-nlp/master/reuters.csv\")"
      ],
      "execution_count": 0,
      "outputs": []
    },
    {
      "cell_type": "markdown",
      "metadata": {
        "id": "EGfekNLzamVO",
        "colab_type": "text"
      },
      "source": [
        "### Stopwords "
      ]
    },
    {
      "cell_type": "code",
      "metadata": {
        "id": "Z2B8fawxamVP",
        "colab_type": "code",
        "colab": {}
      },
      "source": [
        "stopwords = pd.read_csv(\"https://raw.githubusercontent.com/bshmueli/108-nlp/master/stopwords.txt\")\n",
        "stopwords = [row for row in stopwords['i']]"
      ],
      "execution_count": 0,
      "outputs": []
    },
    {
      "cell_type": "code",
      "metadata": {
        "id": "fLZgOfrKamVS",
        "colab_type": "code",
        "colab": {}
      },
      "source": [
        "def get_corpus(df):\n",
        "#     print(\"Dataset size\", len(df))\n",
        "#     print(\"Dataset columns\", df.columns)\n",
        "    corpus = df.content.to_list() # use content, instead of title\n",
        "    return corpus"
      ],
      "execution_count": 0,
      "outputs": []
    },
    {
      "cell_type": "code",
      "metadata": {
        "id": "kD8iol3TamVW",
        "colab_type": "code",
        "colab": {}
      },
      "source": [
        "def tokenize(document):\n",
        "    words = document.split(' ')\n",
        "    # Convert all tokens to lowercase\n",
        "    words = [word.lower() for word in words]\n",
        "    # Remove stopwords\n",
        "    words = [w for w in words if not w in stopwords] \n",
        "    return words"
      ],
      "execution_count": 0,
      "outputs": []
    },
    {
      "cell_type": "code",
      "metadata": {
        "id": "L0BAlxQkamVZ",
        "colab_type": "code",
        "colab": {}
      },
      "source": [
        "def rm_punctuation(token):\n",
        "    clean = []\n",
        "    for word in token:\n",
        "        word = (re.split('\\W+', word))\n",
        "        x = list(filter(None,word))\n",
        "        clean.append(x)\n",
        "    w = []\n",
        "    for item in clean:\n",
        "        for x in item:\n",
        "            w.append(x)\n",
        "    return w"
      ],
      "execution_count": 0,
      "outputs": []
    },
    {
      "cell_type": "code",
      "metadata": {
        "id": "mKyhi9tSamVd",
        "colab_type": "code",
        "colab": {}
      },
      "source": [
        "def get_vocab(corpus):\n",
        "    vocabulary = Counter()\n",
        "    for document in corpus:\n",
        "        tokens = tokenize(document)\n",
        "        vocabulary.update(tokens)\n",
        "    return vocabulary"
      ],
      "execution_count": 0,
      "outputs": []
    },
    {
      "cell_type": "code",
      "metadata": {
        "id": "xRfwFaWdamVf",
        "colab_type": "code",
        "colab": {}
      },
      "source": [
        "def get_cleaned_corpus():\n",
        "    corpus = []\n",
        "    for i in range(len(df)):\n",
        "        corpus.append(rm_punctuation(tokenize(get_corpus(df)[i])))\n",
        "    return corpus"
      ],
      "execution_count": 0,
      "outputs": []
    },
    {
      "cell_type": "code",
      "metadata": {
        "id": "i-LVmSEzamVh",
        "colab_type": "code",
        "colab": {}
      },
      "source": [
        "all_corpus = get_cleaned_corpus()"
      ],
      "execution_count": 0,
      "outputs": []
    },
    {
      "cell_type": "code",
      "metadata": {
        "id": "hGyNOgOJamVj",
        "colab_type": "code",
        "colab": {}
      },
      "source": [
        "full_corpus = [corpus[0] for corpus in all_corpus]\n",
        "vocab = get_vocab(full_corpus).most_common(1000) # use 1000 top features by term frequency across the whole corpus"
      ],
      "execution_count": 0,
      "outputs": []
    },
    {
      "cell_type": "code",
      "metadata": {
        "id": "ctmwd18namVm",
        "colab_type": "code",
        "colab": {}
      },
      "source": [
        "words_dict = {}\n",
        "for i in range(len(vocab)):\n",
        "    words_dict[vocab[i][0]] = vocab[i][1]"
      ],
      "execution_count": 0,
      "outputs": []
    },
    {
      "cell_type": "code",
      "metadata": {
        "id": "J6R-YiacamVo",
        "colab_type": "code",
        "colab": {}
      },
      "source": [
        "# Replace BoW vectors with TF-IDF vectors \n",
        "# tf\n",
        "tf = []\n",
        "for token, freq in vocab:\n",
        "    vb = []\n",
        "    for i in range(len(all_corpus)):\n",
        "        if token in all_corpus[i]:\n",
        "            vb.append(1)\n",
        "        else:\n",
        "            vb.append(0)\n",
        "    tf.append(vb)\n",
        "    \n",
        "# df_x\n",
        "df_x = []\n",
        "for x in range(len(vocab)):\n",
        "    count = 0\n",
        "    for y in range(len(all_corpus)):\n",
        "        if tf[x][y] != 0:\n",
        "            count += 1\n",
        "    df_x.append(count)\n",
        "    \n",
        "# w\n",
        "w = np.zeros((len(vocab), len(all_corpus)))\n",
        "for x in range(len(vocab)):\n",
        "    for y in range(len(all_corpus)):\n",
        "        w[x, y] = tf[x][y] * math.log(len(all_corpus) / df_x[x])"
      ],
      "execution_count": 0,
      "outputs": []
    },
    {
      "cell_type": "code",
      "metadata": {
        "id": "fef1nh-iamVq",
        "colab_type": "code",
        "colab": {}
      },
      "source": [
        "s = {}\n",
        "count=0\n",
        "for i in range(len(vocab)):\n",
        "    s[vocab[i][0]] = count\n",
        "    count += 1"
      ],
      "execution_count": 0,
      "outputs": []
    },
    {
      "cell_type": "code",
      "metadata": {
        "id": "NUGfuhWhamVs",
        "colab_type": "code",
        "colab": {}
      },
      "source": [
        "doc_vec = []\n",
        "for i in range(len(get_corpus(df))): \n",
        "    g = np.zeros(len(get_corpus(df)))\n",
        "    count = 0\n",
        "    for item in rm_punctuation(tokenize(get_corpus(df)[i])): # sum the vector of the words\n",
        "        if item in s:\n",
        "            g += w[s[item]]\n",
        "            count += 1\n",
        "    doc_vec.append(g/count)"
      ],
      "execution_count": 0,
      "outputs": []
    },
    {
      "cell_type": "code",
      "metadata": {
        "id": "Oaz-A_RmamVu",
        "colab_type": "code",
        "colab": {}
      },
      "source": [
        "def doc2vec(doc):\n",
        "    words = tokenize(doc)\n",
        "    return [1 if token in words else 0 for token, freq in vocab]"
      ],
      "execution_count": 0,
      "outputs": []
    },
    {
      "cell_type": "code",
      "metadata": {
        "id": "U7cdH19aamVw",
        "colab_type": "code",
        "colab": {}
      },
      "source": [
        "def cosine_similarity(vec_a, vec_b):\n",
        "    assert len(vec_a) == len(vec_b)\n",
        "    if sum(vec_a) == 0 or sum(vec_b) == 0:\n",
        "        return 0\n",
        "    a_b = sum(i[0] * i[1] for i in zip(vec_a, vec_b))\n",
        "    a_2 = sum([i*i for i in vec_a])\n",
        "    b_2 = sum([i*i for i in vec_b])\n",
        "    return a_b/(math.sqrt(a_2) * math.sqrt(b_2))"
      ],
      "execution_count": 0,
      "outputs": []
    },
    {
      "cell_type": "code",
      "metadata": {
        "id": "zaZUtO5uamVz",
        "colab_type": "code",
        "colab": {}
      },
      "source": [
        "def doc_similarity(doc_a, doc_b):\n",
        "    return cosine_similarity(doc2vec(doc_a), doc2vec(doc_b))"
      ],
      "execution_count": 0,
      "outputs": []
    },
    {
      "cell_type": "code",
      "metadata": {
        "id": "fpDZCWTYamV3",
        "colab_type": "code",
        "colab": {}
      },
      "source": [
        "def get_title_corpus(df):\n",
        "    corpus = df.title.to_list()\n",
        "    return corpus"
      ],
      "execution_count": 0,
      "outputs": []
    },
    {
      "cell_type": "code",
      "metadata": {
        "id": "CG9TISiDamV6",
        "colab_type": "code",
        "colab": {}
      },
      "source": [
        "title_corpus = get_title_corpus(df)"
      ],
      "execution_count": 0,
      "outputs": []
    },
    {
      "cell_type": "code",
      "metadata": {
        "id": "ocqmPNp2amV8",
        "colab_type": "code",
        "colab": {}
      },
      "source": [
        "def k_similar(seed_id, k=5):\n",
        "    seed_doc = title_corpus[seed_id]\n",
        "    print(' > \"{}\"'.format(seed_doc))\n",
        "    \n",
        "    similarities = [cosine_similarity(doc_vec[seed_id], doc) for id, doc in enumerate(doc_vec)]\n",
        "    top_indices = sorted(range(len(similarities)), key=lambda i: similarities[i])[-k:]\n",
        "    nerest = [[title_corpus[id], similarities[id]] for id in top_indices]\n",
        "    print()\n",
        "    for story in reversed(nerest):\n",
        "        print('* \"{}\" ({})'.format(story[0], story[1]))"
      ],
      "execution_count": 0,
      "outputs": []
    },
    {
      "cell_type": "code",
      "metadata": {
        "id": "DkLLn5UCamV-",
        "colab_type": "code",
        "colab": {}
      },
      "source": [
        "corpus = get_corpus(df)\n",
        "full_corpus = [corpus[0] for corpus in all_corpus]\n",
        "vocab = get_vocab(full_corpus).most_common(1000)"
      ],
      "execution_count": 0,
      "outputs": []
    },
    {
      "cell_type": "code",
      "metadata": {
        "id": "IIPSOVt6amWA",
        "colab_type": "code",
        "outputId": "648ea62b-476d-470f-9fc5-bba6609f61f3",
        "colab": {}
      },
      "source": [
        "k_similar(10, 5)"
      ],
      "execution_count": 0,
      "outputs": [
        {
          "output_type": "stream",
          "text": [
            " > \"Trump says rival Cruz’s Canadian birthplace could be ’big problem’: Washington Post\"\n",
            "\n",
            "* \"Trump says rival Cruz’s Canadian birthplace could be ’big problem’: Washington Post\" (1.0)\n",
            "* \"Trump, Cruz tensions may provide liveliest Republican debate yet\" (0.9799520561024601)\n",
            "* \"As tensions escalate, Cruz calls Trump a ’sniveling coward’\" (0.977148679823419)\n",
            "* \"Cruz gets Jeb Bush backing as Republican elites try to stop Trump\" (0.9755230309821485)\n",
            "* \"Obama, Republicans urge Trump to soften tone\" (0.9747440499196026)\n"
          ],
          "name": "stdout"
        }
      ]
    }
  ]
}