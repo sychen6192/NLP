{
  "nbformat": 4,
  "nbformat_minor": 0,
  "metadata": {
    "colab": {
      "name": "lab1-demo.ipynb",
      "provenance": [],
      "collapsed_sections": [],
      "toc_visible": true
    },
    "kernelspec": {
      "name": "python3",
      "display_name": "Python 3"
    }
  },
  "cells": [
    {
      "cell_type": "markdown",
      "metadata": {
        "id": "HsQ_pHO3cG1m",
        "colab_type": "text"
      },
      "source": [
        "#Recommend Similar News Articles\n",
        "This notebook demonstrates how to use bag-of-word vectors and cosine similarity for news article recommendation."
      ]
    },
    {
      "cell_type": "code",
      "metadata": {
        "id": "B80ijUN40QPr",
        "colab_type": "code",
        "colab": {}
      },
      "source": [
        "import re\n",
        "import math\n",
        "import pandas as pd\n",
        "from collections import Counter"
      ],
      "execution_count": 0,
      "outputs": []
    },
    {
      "cell_type": "markdown",
      "metadata": {
        "id": "tJH61jnWXdsh",
        "colab_type": "text"
      },
      "source": [
        "#Fetching the Corpus\n",
        "`get_corpus()` reads the CSV file, and then return a list of the news headlines"
      ]
    },
    {
      "cell_type": "code",
      "metadata": {
        "id": "TwPf9e26O9sn",
        "colab_type": "code",
        "colab": {}
      },
      "source": [
        "def get_corpus():\n",
        "  df = pd.read_csv('https://raw.githubusercontent.com/bshmueli/108-nlp/master/reuters.csv') # https://bit.ly/nlp-reuters\n",
        "  print(\"Dataset columns\", df.columns)\n",
        "  print(\"Dataset size\", len(df))\n",
        "  corpus = df.title.to_list()\n",
        "  return corpus"
      ],
      "execution_count": 0,
      "outputs": []
    },
    {
      "cell_type": "code",
      "metadata": {
        "id": "arntcI3OTHTx",
        "colab_type": "code",
        "colab": {}
      },
      "source": [
        "def tokenize(document):\n",
        "  words = document.split(' ')\n",
        "  return words"
      ],
      "execution_count": 0,
      "outputs": []
    },
    {
      "cell_type": "markdown",
      "metadata": {
        "id": "m4lh_w1HXU14",
        "colab_type": "text"
      },
      "source": [
        "#Computing word frequencies\n",
        "`get_vocab(corpus)` computes the word frequencies in a given corpus. It returns a list of 2-tuples. Each tuple contains the token and its frequency."
      ]
    },
    {
      "cell_type": "code",
      "metadata": {
        "id": "QJvtr3VZLkAE",
        "colab_type": "code",
        "colab": {}
      },
      "source": [
        "def get_vocab(corpus):\n",
        "  vocabulary = Counter()\n",
        "  for document in corpus:\n",
        "    tokens = tokenize(document)\n",
        "    vocabulary.update(tokens)\n",
        "  return vocabulary"
      ],
      "execution_count": 0,
      "outputs": []
    },
    {
      "cell_type": "code",
      "metadata": {
        "id": "eJI_ujMi8TP7",
        "colab_type": "code",
        "colab": {}
      },
      "source": [
        "def df():"
      ],
      "execution_count": 0,
      "outputs": []
    },
    {
      "cell_type": "markdown",
      "metadata": {
        "id": "Cwy_Cb-9cYwe",
        "colab_type": "text"
      },
      "source": [
        "#Compute BoW (Bag-of-Words) Vector\n",
        "`doc2vec(doc)` returns a bag-of-words vector for document `doc`, corresponding to the presence of a word in `vocab`"
      ]
    },
    {
      "cell_type": "code",
      "metadata": {
        "id": "5FLl103a8OLh",
        "colab_type": "code",
        "colab": {}
      },
      "source": [
        "def doc2vec(doc):\n",
        "  words = tokenize(doc)\n",
        "  return [1 if token in words else 0 for token, freq in vocab]\n"
      ],
      "execution_count": 0,
      "outputs": []
    },
    {
      "cell_type": "markdown",
      "metadata": {
        "id": "l6X2fT2H8PAx",
        "colab_type": "text"
      },
      "source": [
        "Compute the Bag-of-Words vector for each document"
      ]
    },
    {
      "cell_type": "markdown",
      "metadata": {
        "id": "9q3bc4T_kzMy",
        "colab_type": "text"
      },
      "source": [
        "Cosine similarity between two numerical vectors"
      ]
    },
    {
      "cell_type": "code",
      "metadata": {
        "id": "3WuWEBWLQBAM",
        "colab_type": "code",
        "colab": {}
      },
      "source": [
        "def cosine_similarity(vec_a, vec_b):\n",
        "  assert len(vec_a) == len(vec_b)\n",
        "  if sum(vec_a) == 0 or sum(vec_b) == 0:\n",
        "    return 0 # hack\n",
        "  a_b = sum(i[0] * i[1] for i in zip(vec_a, vec_b))\n",
        "  a_2 = sum([i*i for i in vec_a])\n",
        "  b_2 = sum([i*i for i in vec_b])\n",
        "  return a_b/(math.sqrt(a_2) * math.sqrt(b_2))"
      ],
      "execution_count": 0,
      "outputs": []
    },
    {
      "cell_type": "code",
      "metadata": {
        "id": "5FEyKg0mkeLm",
        "colab_type": "code",
        "colab": {}
      },
      "source": [
        "def doc_similarity(doc_a, doc_b):\n",
        "  return cosine_similarity(doc2vec(doc_a), doc2vec(doc_b))\n"
      ],
      "execution_count": 0,
      "outputs": []
    },
    {
      "cell_type": "markdown",
      "metadata": {
        "id": "ddRwu-O1f13Q",
        "colab_type": "text"
      },
      "source": [
        "# Find Similar Documents\n",
        "Find and print the $k$ most similar titles to a given title"
      ]
    },
    {
      "cell_type": "code",
      "metadata": {
        "id": "a6rIkWUrmhxd",
        "colab_type": "code",
        "colab": {}
      },
      "source": [
        "def k_similar(seed_id, k):\n",
        "  seed_doc = corpus[seed_id]\n",
        "  print('> \"{}\"'.format(seed_doc))\n",
        "  similarities = [doc_similarity(seed_doc, doc) for id, doc in enumerate(corpus)]\n",
        "  top_indices = sorted(range(len(similarities)), key=lambda i: similarities[i])[-k:] # https://stackoverflow.com/questions/13070461/get-indices-of-the-top-n-values-of-a-list\n",
        "  nearest = [[corpus[id], similarities[id]] for id in top_indices]\n",
        "  print()\n",
        "  for story in reversed(nearest):\n",
        "    print('* \"{}\" ({})'.format(story[0], story[1]))"
      ],
      "execution_count": 0,
      "outputs": []
    },
    {
      "cell_type": "markdown",
      "metadata": {
        "id": "IgPZe4rxUVPQ",
        "colab_type": "text"
      },
      "source": [
        "# Test our program"
      ]
    },
    {
      "cell_type": "code",
      "metadata": {
        "id": "HjW8MQXZUmJU",
        "colab_type": "code",
        "outputId": "4e800342-941f-4ed2-8b65-85cb7d9e12b6",
        "colab": {
          "base_uri": "https://localhost:8080/",
          "height": 181
        }
      },
      "source": [
        "corpus = get_corpus()\n",
        "vocab = get_vocab(corpus).most_common(1000)\n",
        "k_similar(10, 5)"
      ],
      "execution_count": 0,
      "outputs": [
        {
          "output_type": "stream",
          "text": [
            "Dataset columns Index(['title', 'content'], dtype='object')\n",
            "Dataset size 5354\n",
            "> \"Trump says rival Cruz’s Canadian birthplace could be ’big problem’: Washington Post\"\n",
            "\n",
            "* \"Trump says rival Cruz’s Canadian birthplace could be ’big problem’: Washington Post\" (1.0000000000000002)\n",
            "* \"Disney buying Netflix could be practical magic\" (0.5773502691896258)\n",
            "* \"DoubleLine’s Gundlach says Trump rallies seem to be ’losing steam’\" (0.5477225575051661)\n",
            "* \"Departure of communications aide could be first in Trump shake-up\" (0.5000000000000001)\n",
            "* \"McDonald’s deletes Trump tweet, says Twitter account compromised\" (0.47140452079103173)\n"
          ],
          "name": "stdout"
        }
      ]
    }
  ]
}