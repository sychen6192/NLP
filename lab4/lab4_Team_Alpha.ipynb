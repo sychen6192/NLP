{
  "nbformat": 4,
  "nbformat_minor": 0,
  "metadata": {
    "colab": {
      "name": "lab4_Team_Alpha.ipynb",
      "provenance": [],
      "collapsed_sections": []
    },
    "kernelspec": {
      "name": "python3",
      "display_name": "Python 3"
    }
  },
  "cells": [
    {
      "cell_type": "code",
      "metadata": {
        "id": "WGPgapvYG9fK",
        "colab_type": "code",
        "outputId": "19f8c421-397b-47ed-8285-00526ad7bba3",
        "colab": {
          "resources": {
            "http://localhost:8080/nbextensions/google.colab/files.js": {
              "data": "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",
              "ok": true,
              "headers": [
                [
                  "content-type",
                  "application/javascript"
                ]
              ],
              "status": 200,
              "status_text": ""
            }
          },
          "base_uri": "https://localhost:8080/",
          "height": 42
        }
      },
      "source": [
        "from google.colab import files\n",
        "uploaded = files.upload()"
      ],
      "execution_count": 1,
      "outputs": [
        {
          "output_type": "display_data",
          "data": {
            "text/html": [
              "\n",
              "     <input type=\"file\" id=\"files-907d65d0-bf5b-4535-b5a1-97c81c7678d4\" name=\"files[]\" multiple disabled />\n",
              "     <output id=\"result-907d65d0-bf5b-4535-b5a1-97c81c7678d4\">\n",
              "      Upload widget is only available when the cell has been executed in the\n",
              "      current browser session. Please rerun this cell to enable.\n",
              "      </output>\n",
              "      <script src=\"/nbextensions/google.colab/files.js\"></script> "
            ],
            "text/plain": [
              "<IPython.core.display.HTML object>"
            ]
          },
          "metadata": {
            "tags": []
          }
        }
      ]
    },
    {
      "cell_type": "markdown",
      "metadata": {
        "id": "tmxGTevMPZza",
        "colab_type": "text"
      },
      "source": [
        "### Auth"
      ]
    },
    {
      "cell_type": "code",
      "metadata": {
        "id": "NRINsL2RHETB",
        "colab_type": "code",
        "colab": {}
      },
      "source": [
        "import boto3\n",
        "import pandas as pd\n",
        "\n",
        "CREDENTIALS_FILE = 'credentials.csv'\n",
        "credentials = pd.read_csv(CREDENTIALS_FILE).to_dict('records')[0]\n",
        "aws_access_key_id = credentials['Access key ID']\n",
        "aws_secret_access_key = credentials['Secret access key']\n",
        "\n",
        "region_name = 'us-east-1'\n",
        "endpoint_url = 'https://mturk-requester-sandbox.us-east-1.amazonaws.com'\n",
        "\n",
        "# Uncomment this line to use in production\n",
        "# endpoint_url = 'https://mturk-requester.us-east-1.amazonaws.com'\n",
        " \n",
        "client = boto3.client(\n",
        "    'mturk',\n",
        "    aws_access_key_id=aws_access_key_id,\n",
        "    aws_secret_access_key=aws_secret_access_key,\n",
        "    endpoint_url=endpoint_url,\n",
        "    region_name=region_name\n",
        ")"
      ],
      "execution_count": 0,
      "outputs": []
    },
    {
      "cell_type": "code",
      "metadata": {
        "id": "d-w_yKGaPiAD",
        "colab_type": "code",
        "outputId": "7f278e2f-158c-40f2-9f45-70473dd62b79",
        "colab": {
          "base_uri": "https://localhost:8080/",
          "height": 54
        }
      },
      "source": [
        "print(client.get_account_balance())"
      ],
      "execution_count": 3,
      "outputs": [
        {
          "output_type": "stream",
          "text": [
            "{'AvailableBalance': '10000.00', 'ResponseMetadata': {'RequestId': '6383206e-b7e8-44ec-a6d8-38b7f8b2bd0e', 'HTTPStatusCode': 200, 'HTTPHeaders': {'x-amzn-requestid': '6383206e-b7e8-44ec-a6d8-38b7f8b2bd0e', 'content-type': 'application/x-amz-json-1.1', 'content-length': '31', 'date': 'Mon, 25 May 2020 14:55:58 GMT'}, 'RetryAttempts': 0}}\n"
          ],
          "name": "stdout"
        }
      ]
    },
    {
      "cell_type": "code",
      "metadata": {
        "id": "yz6KsuUGpkGp",
        "colab_type": "code",
        "colab": {}
      },
      "source": [
        "import pandas as pd\n",
        "\n",
        "def sent_length(text):\n",
        "  tokens = text.split(' ')\n",
        "  return len(tokens)\n",
        "  \n",
        "df = pd.read_csv(\"https://gist.githubusercontent.com/bshmueli/c99fc0abf56460e644bd610bf3024e83/raw/720285d133c85d94e0aa3fe3edcc199f6d99e3f7/lab4-data.csv\")\n",
        "df['length'] = df['text'].apply(sent_length)\n",
        "df['pay'] = df['length'] > df['length'].mean()"
      ],
      "execution_count": 0,
      "outputs": []
    },
    {
      "cell_type": "markdown",
      "metadata": {
        "id": "xJ9sqvatS4DG",
        "colab_type": "text"
      },
      "source": [
        "### Create HITS"
      ]
    },
    {
      "cell_type": "code",
      "metadata": {
        "id": "jy4lulH9Pp84",
        "colab_type": "code",
        "colab": {}
      },
      "source": [
        "one_minute = 60 # seconds\n",
        "one_hour = 60 * one_minute\n",
        "one_day = 24 * one_hour\n",
        "\n",
        "hit_type_response_10 = client.create_hit_type(\n",
        "    AutoApprovalDelayInSeconds=60 * one_minute, # Payment is 1 hour after completion\n",
        "    AssignmentDurationInSeconds=30 * one_minute, # 30 minutes to complete each HIT\n",
        "    Reward='1.00',\n",
        "    Title='Semantic Segmentation',\n",
        "    Keywords='text,emotion,language,nctu',\n",
        "    Description='Choose the emotion mostly matching your feeling in the sentence',\n",
        "    QualificationRequirements=[\n",
        "        {\n",
        "            'QualificationTypeId': '00000000000000000071', # see https://docs.aws.amazon.com/AWSMechTurk/latest/AWSMturkAPI/ApiReference_QualificationRequirementDataStructureArticle.html#ApiReference_QualificationType-IDs\n",
        "            'Comparator': 'In',\n",
        "            'LocaleValues': [\n",
        "                {\n",
        "                    'Country': 'TW'\n",
        "                },\n",
        "                {\n",
        "                    'Country': 'IN'\n",
        "                },\n",
        "                {\n",
        "                    'Country': 'CA'\n",
        "                },\n",
        "                {\n",
        "                    'Country': 'SG'\n",
        "                },\n",
        "                {\n",
        "                    'Country': 'US'\n",
        "                },\n",
        "            ],\n",
        "            'RequiredToPreview': True,\n",
        "            'ActionsGuarded': 'PreviewAndAccept'\n",
        "        },\n",
        "               \n",
        "        { # adult content alert\n",
        "            'QualificationTypeId': '00000000000000000060', # see https://docs.aws.amazon.com/AWSMechTurk/latest/AWSMturkAPI/ApiReference_QualificationRequirementDataStructureArticle.html#ApiReference_QualificationType-IDs\n",
        "            'Comparator': 'EqualTo',\n",
        "            'IntegerValues': [1],\n",
        "            'ActionsGuarded': 'PreviewAndAccept'\n",
        "        },\n",
        "  \n",
        "    ]\n",
        ")\n",
        "hit_type_response_5 = client.create_hit_type(\n",
        "    AutoApprovalDelayInSeconds=60 * one_minute,\n",
        "    AssignmentDurationInSeconds=30 * one_minute,\n",
        "    Reward='0.5',\n",
        "    Title='Semantic Segmentation',\n",
        "    Keywords='text,emotion,language,nctu',\n",
        "    Description='Choose the emotion mostly matching your feeling in the sentence',\n",
        "    QualificationRequirements=[\n",
        "        {\n",
        "            'QualificationTypeId': '00000000000000000071', # see https://docs.aws.amazon.com/AWSMechTurk/latest/AWSMturkAPI/ApiReference_QualificationRequirementDataStructureArticle.html#ApiReference_QualificationType-IDs\n",
        "            'Comparator': 'In',\n",
        "            'LocaleValues': [\n",
        "                {\n",
        "                    'Country': 'TW'\n",
        "                },\n",
        "                {\n",
        "                    'Country': 'IN'\n",
        "                },\n",
        "                {\n",
        "                    'Country': 'CA'\n",
        "                },\n",
        "                {\n",
        "                    'Country': 'SG'\n",
        "                },\n",
        "                {\n",
        "                    'Country': 'US'\n",
        "                },\n",
        "            ],\n",
        "            'RequiredToPreview': True,\n",
        "            'ActionsGuarded': 'PreviewAndAccept'\n",
        "        },\n",
        "       \n",
        "        { # adult content alert\n",
        "            'QualificationTypeId': '00000000000000000060', # see https://docs.aws.amazon.com/AWSMechTurk/latest/AWSMturkAPI/ApiReference_QualificationRequirementDataStructureArticle.html#ApiReference_QualificationType-IDs\n",
        "            'Comparator': 'EqualTo',\n",
        "            'IntegerValues': [1],\n",
        "            'ActionsGuarded': 'PreviewAndAccept'\n",
        "        },\n",
        "       \n",
        "    ]\n",
        ")\n"
      ],
      "execution_count": 0,
      "outputs": []
    },
    {
      "cell_type": "code",
      "metadata": {
        "id": "T4fjQTdCTe7c",
        "colab_type": "code",
        "colab": {}
      },
      "source": [
        "hit_type_id_10 = hit_type_response_10['HITTypeId']\n",
        "hit_type_id_5 = hit_type_response_5['HITTypeId']"
      ],
      "execution_count": 0,
      "outputs": []
    },
    {
      "cell_type": "markdown",
      "metadata": {
        "id": "0KfKxcoPVI7k",
        "colab_type": "text"
      },
      "source": [
        "#### The text length above average (Pay==True)"
      ]
    },
    {
      "cell_type": "code",
      "metadata": {
        "id": "x04ona7bb4y6",
        "colab_type": "code",
        "colab": {}
      },
      "source": [
        "for idx, item in df.iterrows():\n",
        "  if item.pay:\n",
        "    question='''<?xml version=\"1.0\" encoding=\"UTF-8\"?>\n",
        "<ExternalQuestion xmlns=\"http://mechanicalturk.amazonaws.com/AWSMechanicalTurkDataSchemas/2006-07-14/ExternalQuestion.xsd\">\n",
        "  <ExternalURL>https://sychen6192.github.io/'''+str(item.idx)+'''.html</ExternalURL>\n",
        "  <FrameHeight>800</FrameHeight>\n",
        "</ExternalQuestion>'''\n",
        "\n",
        "    response = client.create_hit_with_hit_type(\n",
        "        HITTypeId=hit_type_id_10,\n",
        "        MaxAssignments=3, # 3 assignments per HIT\n",
        "        LifetimeInSeconds= 8* 7* one_day, # HITs expire in 8 weeks\n",
        "        \n",
        "        Question=question,\n",
        "        RequesterAnnotation=str(item.idx),)"
      ],
      "execution_count": 0,
      "outputs": []
    },
    {
      "cell_type": "markdown",
      "metadata": {
        "id": "lp3X28ibVO9R",
        "colab_type": "text"
      },
      "source": [
        "#### The text length below average (Pay==False)"
      ]
    },
    {
      "cell_type": "code",
      "metadata": {
        "id": "hp8P9Ej4dGHG",
        "colab_type": "code",
        "colab": {}
      },
      "source": [
        "for idx, item in df.iterrows():\n",
        "  if item.pay is False:\n",
        "    question='''<?xml version=\"1.0\" encoding=\"UTF-8\"?>\n",
        "<ExternalQuestion xmlns=\"http://mechanicalturk.amazonaws.com/AWSMechanicalTurkDataSchemas/2006-07-14/ExternalQuestion.xsd\">\n",
        "  <ExternalURL>https://sychen6192.github.io/'''+str(item.idx)+'''.html</ExternalURL>\n",
        "  <FrameHeight>800</FrameHeight>\n",
        "</ExternalQuestion>'''\n",
        "\n",
        "    response = client.create_hit_with_hit_type(\n",
        "        HITTypeId=hit_type_id_5,\n",
        "        MaxAssignments=3,\n",
        "        LifetimeInSeconds= 8* 7* one_day,\n",
        "        Question=question,\n",
        "        RequesterAnnotation=str(item.idx),)"
      ],
      "execution_count": 0,
      "outputs": []
    },
    {
      "cell_type": "code",
      "metadata": {
        "id": "zZwnjl7FThQo",
        "colab_type": "code",
        "colab": {}
      },
      "source": [
        "# list_hits_response = client.list_hits()\n",
        "# hit_id = list_hits_response['HITs'][0]\n",
        "# response = client.list_assignments_for_hit(HITId=hit_id)"
      ],
      "execution_count": 0,
      "outputs": []
    },
    {
      "cell_type": "code",
      "metadata": {
        "id": "iF1J1z5VnJUZ",
        "colab_type": "code",
        "outputId": "6d4ada0d-fe03-483b-8fb4-cb25dcdd6fb4",
        "colab": {
          "base_uri": "https://localhost:8080/",
          "height": 88
        }
      },
      "source": [
        "hits_paginator = client.get_paginator('list_hits')\n",
        "assignments_paginator = client.get_paginator('list_assignments_for_hit')\n",
        "\n",
        "for hits in hits_paginator.paginate():\n",
        "    for hit in hits['HITs']:\n",
        "        for assignments in assignments_paginator.paginate(HITId=hit['HITId']):\n",
        "            for assignment in assignments['Assignments']:\n",
        "                print(assignment['Answer'])"
      ],
      "execution_count": 0,
      "outputs": [
        {
          "output_type": "stream",
          "text": [
            "<?xml version=\"1.0\" encoding=\"ASCII\"?><QuestionFormAnswers xmlns=\"http://mechanicalturk.amazonaws.com/AWSMechanicalTurkDataSchemas/2005-10-01/QuestionFormAnswers.xsd\"><Answer><QuestionIdentifier>valence</QuestionIdentifier><FreeText>5</FreeText></Answer><Answer><QuestionIdentifier>arousal</QuestionIdentifier><FreeText>5</FreeText></Answer><Answer><QuestionIdentifier>dominance</QuestionIdentifier><FreeText>5</FreeText></Answer></QuestionFormAnswers>\n",
            "<?xml version=\"1.0\" encoding=\"ASCII\"?><QuestionFormAnswers xmlns=\"http://mechanicalturk.amazonaws.com/AWSMechanicalTurkDataSchemas/2005-10-01/QuestionFormAnswers.xsd\"><Answer><QuestionIdentifier>color</QuestionIdentifier><FreeText>blue</FreeText></Answer></QuestionFormAnswers>\n",
            "<?xml version=\"1.0\" encoding=\"ASCII\"?><QuestionFormAnswers xmlns=\"http://mechanicalturk.amazonaws.com/AWSMechanicalTurkDataSchemas/2005-10-01/QuestionFormAnswers.xsd\"><Answer><QuestionIdentifier>darknessVal</QuestionIdentifier><FreeText>deeppink</FreeText></Answer></QuestionFormAnswers>\n"
          ],
          "name": "stdout"
        }
      ]
    }
  ]
}